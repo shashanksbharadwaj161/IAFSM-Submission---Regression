{
 "cells": [
  {
   "cell_type": "markdown",
   "id": "ec18af5b",
   "metadata": {},
   "source": [
    "# Medical Price Prediction "
   ]
  },
  {
   "cell_type": "markdown",
   "id": "b3ced628",
   "metadata": {
    "_cell_guid": "b1076dfc-b9ad-4769-8c92-a6c4dae69d19",
    "_uuid": "8f2839f25d086af736a60e9eeb907d3b93b6e0e5",
    "execution": {
     "iopub.execute_input": "2023-05-27T07:44:40.889875Z",
     "iopub.status.busy": "2023-05-27T07:44:40.889355Z",
     "iopub.status.idle": "2023-05-27T07:44:40.905019Z",
     "shell.execute_reply": "2023-05-27T07:44:40.904194Z"
    },
    "papermill": {
     "duration": 0.029893,
     "end_time": "2023-05-27T07:44:40.907047",
     "exception": false,
     "start_time": "2023-05-27T07:44:40.877154",
     "status": "completed"
    },
    "tags": []
   },
   "source": [
    "# 1.Importing libraries necessary for the project"
   ]
  },
  {
   "cell_type": "code",
   "execution_count": 2,
   "id": "30d1ad73",
   "metadata": {
    "execution": {
     "iopub.execute_input": "2023-05-27T07:44:40.922809Z",
     "iopub.status.busy": "2023-05-27T07:44:40.922312Z",
     "iopub.status.idle": "2023-05-27T07:44:42.816324Z",
     "shell.execute_reply": "2023-05-27T07:44:42.814537Z"
    },
    "papermill": {
     "duration": 1.904194,
     "end_time": "2023-05-27T07:44:42.818772",
     "exception": false,
     "start_time": "2023-05-27T07:44:40.914578",
     "status": "completed"
    },
    "tags": []
   },
   "outputs": [],
   "source": [
    "import numpy as np\n",
    "import pandas as pd\n",
    "import matplotlib.pyplot as plt\n",
    "import seaborn as sns\n",
    "from sklearn.model_selection import train_test_split\n",
    "from sklearn import metrics\n",
    "from sklearn.metrics import accuracy_score"
   ]
  },
  {
   "cell_type": "markdown",
   "id": "60d6cc4d",
   "metadata": {},
   "source": [
    "# 2. Reading the data "
   ]
  },
  {
   "cell_type": "code",
   "execution_count": 3,
   "id": "66ac2d01",
   "metadata": {
    "execution": {
     "iopub.execute_input": "2023-05-27T07:44:42.834082Z",
     "iopub.status.busy": "2023-05-27T07:44:42.833721Z",
     "iopub.status.idle": "2023-05-27T07:44:42.859255Z",
     "shell.execute_reply": "2023-05-27T07:44:42.858231Z"
    },
    "papermill": {
     "duration": 0.035662,
     "end_time": "2023-05-27T07:44:42.861587",
     "exception": false,
     "start_time": "2023-05-27T07:44:42.825925",
     "status": "completed"
    },
    "tags": []
   },
   "outputs": [],
   "source": [
    "df=pd.read_csv('Medical Price Dataset.csv')"
   ]
  },
  {
   "cell_type": "code",
   "execution_count": 4,
   "id": "5c8dffbe",
   "metadata": {
    "execution": {
     "iopub.execute_input": "2023-05-27T07:44:42.878658Z",
     "iopub.status.busy": "2023-05-27T07:44:42.877325Z",
     "iopub.status.idle": "2023-05-27T07:44:42.907136Z",
     "shell.execute_reply": "2023-05-27T07:44:42.906194Z"
    },
    "papermill": {
     "duration": 0.040089,
     "end_time": "2023-05-27T07:44:42.909083",
     "exception": false,
     "start_time": "2023-05-27T07:44:42.868994",
     "status": "completed"
    },
    "tags": []
   },
   "outputs": [
    {
     "data": {
      "text/html": [
       "<div>\n",
       "<style scoped>\n",
       "    .dataframe tbody tr th:only-of-type {\n",
       "        vertical-align: middle;\n",
       "    }\n",
       "\n",
       "    .dataframe tbody tr th {\n",
       "        vertical-align: top;\n",
       "    }\n",
       "\n",
       "    .dataframe thead th {\n",
       "        text-align: right;\n",
       "    }\n",
       "</style>\n",
       "<table border=\"1\" class=\"dataframe\">\n",
       "  <thead>\n",
       "    <tr style=\"text-align: right;\">\n",
       "      <th></th>\n",
       "      <th>age</th>\n",
       "      <th>sex</th>\n",
       "      <th>bmi</th>\n",
       "      <th>children</th>\n",
       "      <th>smoker</th>\n",
       "      <th>region</th>\n",
       "      <th>charges</th>\n",
       "    </tr>\n",
       "  </thead>\n",
       "  <tbody>\n",
       "    <tr>\n",
       "      <th>0</th>\n",
       "      <td>19</td>\n",
       "      <td>female</td>\n",
       "      <td>27.900</td>\n",
       "      <td>0</td>\n",
       "      <td>yes</td>\n",
       "      <td>southwest</td>\n",
       "      <td>16884.92400</td>\n",
       "    </tr>\n",
       "    <tr>\n",
       "      <th>1</th>\n",
       "      <td>18</td>\n",
       "      <td>male</td>\n",
       "      <td>33.770</td>\n",
       "      <td>1</td>\n",
       "      <td>no</td>\n",
       "      <td>southeast</td>\n",
       "      <td>1725.55230</td>\n",
       "    </tr>\n",
       "    <tr>\n",
       "      <th>2</th>\n",
       "      <td>28</td>\n",
       "      <td>male</td>\n",
       "      <td>33.000</td>\n",
       "      <td>3</td>\n",
       "      <td>no</td>\n",
       "      <td>southeast</td>\n",
       "      <td>4449.46200</td>\n",
       "    </tr>\n",
       "    <tr>\n",
       "      <th>3</th>\n",
       "      <td>33</td>\n",
       "      <td>male</td>\n",
       "      <td>22.705</td>\n",
       "      <td>0</td>\n",
       "      <td>no</td>\n",
       "      <td>northwest</td>\n",
       "      <td>21984.47061</td>\n",
       "    </tr>\n",
       "    <tr>\n",
       "      <th>4</th>\n",
       "      <td>32</td>\n",
       "      <td>male</td>\n",
       "      <td>28.880</td>\n",
       "      <td>0</td>\n",
       "      <td>no</td>\n",
       "      <td>northwest</td>\n",
       "      <td>3866.85520</td>\n",
       "    </tr>\n",
       "  </tbody>\n",
       "</table>\n",
       "</div>"
      ],
      "text/plain": [
       "   age     sex     bmi  children smoker     region      charges\n",
       "0   19  female  27.900         0    yes  southwest  16884.92400\n",
       "1   18    male  33.770         1     no  southeast   1725.55230\n",
       "2   28    male  33.000         3     no  southeast   4449.46200\n",
       "3   33    male  22.705         0     no  northwest  21984.47061\n",
       "4   32    male  28.880         0     no  northwest   3866.85520"
      ]
     },
     "execution_count": 4,
     "metadata": {},
     "output_type": "execute_result"
    }
   ],
   "source": [
    "df.head()"
   ]
  },
  {
   "cell_type": "code",
   "execution_count": 5,
   "id": "d4e8d630",
   "metadata": {
    "execution": {
     "iopub.execute_input": "2023-05-27T07:44:42.924837Z",
     "iopub.status.busy": "2023-05-27T07:44:42.924486Z",
     "iopub.status.idle": "2023-05-27T07:44:42.929728Z",
     "shell.execute_reply": "2023-05-27T07:44:42.929004Z"
    },
    "papermill": {
     "duration": 0.015139,
     "end_time": "2023-05-27T07:44:42.931504",
     "exception": false,
     "start_time": "2023-05-27T07:44:42.916365",
     "status": "completed"
    },
    "tags": []
   },
   "outputs": [
    {
     "data": {
      "text/plain": [
       "(1338, 7)"
      ]
     },
     "execution_count": 5,
     "metadata": {},
     "output_type": "execute_result"
    }
   ],
   "source": [
    "df.shape"
   ]
  },
  {
   "cell_type": "code",
   "execution_count": 6,
   "id": "6f431fd0",
   "metadata": {
    "execution": {
     "iopub.execute_input": "2023-05-27T07:44:42.962543Z",
     "iopub.status.busy": "2023-05-27T07:44:42.961598Z",
     "iopub.status.idle": "2023-05-27T07:44:42.992476Z",
     "shell.execute_reply": "2023-05-27T07:44:42.990786Z"
    },
    "papermill": {
     "duration": 0.041511,
     "end_time": "2023-05-27T07:44:42.994921",
     "exception": false,
     "start_time": "2023-05-27T07:44:42.953410",
     "status": "completed"
    },
    "tags": []
   },
   "outputs": [
    {
     "name": "stdout",
     "output_type": "stream",
     "text": [
      "<class 'pandas.core.frame.DataFrame'>\n",
      "RangeIndex: 1338 entries, 0 to 1337\n",
      "Data columns (total 7 columns):\n",
      " #   Column    Non-Null Count  Dtype  \n",
      "---  ------    --------------  -----  \n",
      " 0   age       1338 non-null   int64  \n",
      " 1   sex       1338 non-null   object \n",
      " 2   bmi       1338 non-null   float64\n",
      " 3   children  1338 non-null   int64  \n",
      " 4   smoker    1338 non-null   object \n",
      " 5   region    1338 non-null   object \n",
      " 6   charges   1338 non-null   float64\n",
      "dtypes: float64(2), int64(2), object(3)\n",
      "memory usage: 73.3+ KB\n"
     ]
    }
   ],
   "source": [
    "df.info()"
   ]
  },
  {
   "cell_type": "markdown",
   "id": "ad8e5ba6",
   "metadata": {},
   "source": [
    "# 3.Data Analysis and Vizualisation\n",
    "We use **matplotlib** library for vizualization"
   ]
  },
  {
   "cell_type": "code",
   "execution_count": 7,
   "id": "74ebdb80",
   "metadata": {
    "execution": {
     "iopub.execute_input": "2023-05-27T07:44:43.012046Z",
     "iopub.status.busy": "2023-05-27T07:44:43.011650Z",
     "iopub.status.idle": "2023-05-27T07:44:43.021904Z",
     "shell.execute_reply": "2023-05-27T07:44:43.020997Z"
    },
    "papermill": {
     "duration": 0.021076,
     "end_time": "2023-05-27T07:44:43.024077",
     "exception": false,
     "start_time": "2023-05-27T07:44:43.003001",
     "status": "completed"
    },
    "tags": []
   },
   "outputs": [
    {
     "data": {
      "text/plain": [
       "age         0\n",
       "sex         0\n",
       "bmi         0\n",
       "children    0\n",
       "smoker      0\n",
       "region      0\n",
       "charges     0\n",
       "dtype: int64"
      ]
     },
     "execution_count": 7,
     "metadata": {},
     "output_type": "execute_result"
    }
   ],
   "source": [
    "df.isnull().sum()"
   ]
  },
  {
   "cell_type": "code",
   "execution_count": 8,
   "id": "fa43a6ef",
   "metadata": {
    "execution": {
     "iopub.execute_input": "2023-05-27T07:44:43.053605Z",
     "iopub.status.busy": "2023-05-27T07:44:43.053243Z",
     "iopub.status.idle": "2023-05-27T07:44:43.074196Z",
     "shell.execute_reply": "2023-05-27T07:44:43.073422Z"
    },
    "papermill": {
     "duration": 0.030445,
     "end_time": "2023-05-27T07:44:43.075676",
     "exception": false,
     "start_time": "2023-05-27T07:44:43.045231",
     "status": "completed"
    },
    "tags": []
   },
   "outputs": [
    {
     "data": {
      "text/html": [
       "<div>\n",
       "<style scoped>\n",
       "    .dataframe tbody tr th:only-of-type {\n",
       "        vertical-align: middle;\n",
       "    }\n",
       "\n",
       "    .dataframe tbody tr th {\n",
       "        vertical-align: top;\n",
       "    }\n",
       "\n",
       "    .dataframe thead th {\n",
       "        text-align: right;\n",
       "    }\n",
       "</style>\n",
       "<table border=\"1\" class=\"dataframe\">\n",
       "  <thead>\n",
       "    <tr style=\"text-align: right;\">\n",
       "      <th></th>\n",
       "      <th>age</th>\n",
       "      <th>bmi</th>\n",
       "      <th>children</th>\n",
       "      <th>charges</th>\n",
       "    </tr>\n",
       "  </thead>\n",
       "  <tbody>\n",
       "    <tr>\n",
       "      <th>count</th>\n",
       "      <td>1338.000000</td>\n",
       "      <td>1338.000000</td>\n",
       "      <td>1338.000000</td>\n",
       "      <td>1338.000000</td>\n",
       "    </tr>\n",
       "    <tr>\n",
       "      <th>mean</th>\n",
       "      <td>39.207025</td>\n",
       "      <td>30.663397</td>\n",
       "      <td>1.094918</td>\n",
       "      <td>13270.422265</td>\n",
       "    </tr>\n",
       "    <tr>\n",
       "      <th>std</th>\n",
       "      <td>14.049960</td>\n",
       "      <td>6.098187</td>\n",
       "      <td>1.205493</td>\n",
       "      <td>12110.011237</td>\n",
       "    </tr>\n",
       "    <tr>\n",
       "      <th>min</th>\n",
       "      <td>18.000000</td>\n",
       "      <td>15.960000</td>\n",
       "      <td>0.000000</td>\n",
       "      <td>1121.873900</td>\n",
       "    </tr>\n",
       "    <tr>\n",
       "      <th>25%</th>\n",
       "      <td>27.000000</td>\n",
       "      <td>26.296250</td>\n",
       "      <td>0.000000</td>\n",
       "      <td>4740.287150</td>\n",
       "    </tr>\n",
       "    <tr>\n",
       "      <th>50%</th>\n",
       "      <td>39.000000</td>\n",
       "      <td>30.400000</td>\n",
       "      <td>1.000000</td>\n",
       "      <td>9382.033000</td>\n",
       "    </tr>\n",
       "    <tr>\n",
       "      <th>75%</th>\n",
       "      <td>51.000000</td>\n",
       "      <td>34.693750</td>\n",
       "      <td>2.000000</td>\n",
       "      <td>16639.912515</td>\n",
       "    </tr>\n",
       "    <tr>\n",
       "      <th>max</th>\n",
       "      <td>64.000000</td>\n",
       "      <td>53.130000</td>\n",
       "      <td>5.000000</td>\n",
       "      <td>63770.428010</td>\n",
       "    </tr>\n",
       "  </tbody>\n",
       "</table>\n",
       "</div>"
      ],
      "text/plain": [
       "               age          bmi     children       charges\n",
       "count  1338.000000  1338.000000  1338.000000   1338.000000\n",
       "mean     39.207025    30.663397     1.094918  13270.422265\n",
       "std      14.049960     6.098187     1.205493  12110.011237\n",
       "min      18.000000    15.960000     0.000000   1121.873900\n",
       "25%      27.000000    26.296250     0.000000   4740.287150\n",
       "50%      39.000000    30.400000     1.000000   9382.033000\n",
       "75%      51.000000    34.693750     2.000000  16639.912515\n",
       "max      64.000000    53.130000     5.000000  63770.428010"
      ]
     },
     "execution_count": 8,
     "metadata": {},
     "output_type": "execute_result"
    }
   ],
   "source": [
    "df.describe()"
   ]
  },
  {
   "cell_type": "markdown",
   "id": "b41f7cac",
   "metadata": {},
   "source": [
    "**Age feature**"
   ]
  },
  {
   "cell_type": "code",
   "execution_count": 13,
   "id": "1b41ac5d",
   "metadata": {
    "execution": {
     "iopub.execute_input": "2023-05-27T07:44:43.091384Z",
     "iopub.status.busy": "2023-05-27T07:44:43.091057Z",
     "iopub.status.idle": "2023-05-27T07:44:43.493365Z",
     "shell.execute_reply": "2023-05-27T07:44:43.492242Z"
    },
    "papermill": {
     "duration": 0.412771,
     "end_time": "2023-05-27T07:44:43.495844",
     "exception": false,
     "start_time": "2023-05-27T07:44:43.083073",
     "status": "completed"
    },
    "tags": []
   },
   "outputs": [
    {
     "data": {
      "text/plain": [
       "<Figure size 600x600 with 0 Axes>"
      ]
     },
     "metadata": {},
     "output_type": "display_data"
    },
    {
     "data": {
      "image/png": "[encoded data removed]",
      "text/plain": [
       "<Figure size 500x500 with 1 Axes>"
      ]
     },
     "metadata": {},
     "output_type": "display_data"
    }
   ],
   "source": [
    "sns.set()\n",
    "plt.figure(figsize=(6,6))\n",
    "sns.displot(df['age'])\n",
    "plt.title('Age Distribution')\n",
    "plt.show()"
   ]
  },
  {
   "cell_type": "markdown",
   "id": "b2042f8e",
   "metadata": {},
   "source": [
    "**Sex feature**"
   ]
  },
  {
   "cell_type": "code",
   "execution_count": 10,
   "id": "97b3151c",
   "metadata": {
    "execution": {
     "iopub.execute_input": "2023-05-27T07:44:43.513850Z",
     "iopub.status.busy": "2023-05-27T07:44:43.513486Z",
     "iopub.status.idle": "2023-05-27T07:44:43.703316Z",
     "shell.execute_reply": "2023-05-27T07:44:43.702463Z"
    },
    "papermill": {
     "duration": 0.201437,
     "end_time": "2023-05-27T07:44:43.705709",
     "exception": false,
     "start_time": "2023-05-27T07:44:43.504272",
     "status": "completed"
    },
    "tags": []
   },
   "outputs": [
    {
     "data": {
      "image/png": "[encoded data removed]",
      "text/plain": [
       "<Figure size 600x600 with 1 Axes>"
      ]
     },
     "metadata": {},
     "output_type": "display_data"
    }
   ],
   "source": [
    "plt.figure(figsize=(6,6))\n",
    "sns.countplot(x='sex',data=df)\n",
    "plt.title('Gender Dist')\n",
    "plt.show()"
   ]
  },
  {
   "cell_type": "code",
   "execution_count": 11,
   "id": "72e57f14",
   "metadata": {
    "execution": {
     "iopub.execute_input": "2023-05-27T07:44:43.724169Z",
     "iopub.status.busy": "2023-05-27T07:44:43.723824Z",
     "iopub.status.idle": "2023-05-27T07:44:43.732639Z",
     "shell.execute_reply": "2023-05-27T07:44:43.730905Z"
    },
    "papermill": {
     "duration": 0.020877,
     "end_time": "2023-05-27T07:44:43.735333",
     "exception": false,
     "start_time": "2023-05-27T07:44:43.714456",
     "status": "completed"
    },
    "tags": []
   },
   "outputs": [
    {
     "data": {
      "text/plain": [
       "male      676\n",
       "female    662\n",
       "Name: sex, dtype: int64"
      ]
     },
     "execution_count": 11,
     "metadata": {},
     "output_type": "execute_result"
    }
   ],
   "source": [
    "df['sex'].value_counts()"
   ]
  },
  {
   "cell_type": "markdown",
   "id": "d2d7173b",
   "metadata": {},
   "source": [
    "**BMI feature**"
   ]
  },
  {
   "cell_type": "code",
   "execution_count": 12,
   "id": "77757815",
   "metadata": {
    "execution": {
     "iopub.execute_input": "2023-05-27T07:44:43.755038Z",
     "iopub.status.busy": "2023-05-27T07:44:43.754693Z",
     "iopub.status.idle": "2023-05-27T07:44:44.093680Z",
     "shell.execute_reply": "2023-05-27T07:44:44.091650Z"
    },
    "papermill": {
     "duration": 0.351163,
     "end_time": "2023-05-27T07:44:44.096349",
     "exception": false,
     "start_time": "2023-05-27T07:44:43.745186",
     "status": "completed"
    },
    "tags": []
   },
   "outputs": [
    {
     "data": {
      "text/plain": [
       "<Figure size 600x600 with 0 Axes>"
      ]
     },
     "metadata": {},
     "output_type": "display_data"
    },
    {
     "data": {
      "image/png": "[encoded data removed]",
      "text/plain": [
       "<Figure size 500x500 with 1 Axes>"
      ]
     },
     "metadata": {},
     "output_type": "display_data"
    }
   ],
   "source": [
    "plt.figure(figsize=(6,6))\n",
    "sns.displot(df['bmi'])\n",
    "plt.title('Bmi Dist')\n",
    "plt.show()"
   ]
  },
  {
   "cell_type": "markdown",
   "id": "2ee86a44",
   "metadata": {},
   "source": [
    "**Children feature**"
   ]
  },
  {
   "cell_type": "code",
   "execution_count": 14,
   "id": "641eb5cd",
   "metadata": {
    "execution": {
     "iopub.execute_input": "2023-05-27T07:44:44.115707Z",
     "iopub.status.busy": "2023-05-27T07:44:44.115367Z",
     "iopub.status.idle": "2023-05-27T07:44:44.122062Z",
     "shell.execute_reply": "2023-05-27T07:44:44.121512Z"
    },
    "papermill": {
     "duration": 0.018679,
     "end_time": "2023-05-27T07:44:44.124108",
     "exception": false,
     "start_time": "2023-05-27T07:44:44.105429",
     "status": "completed"
    },
    "tags": []
   },
   "outputs": [
    {
     "data": {
      "text/plain": [
       "0    574\n",
       "1    324\n",
       "2    240\n",
       "3    157\n",
       "4     25\n",
       "5     18\n",
       "Name: children, dtype: int64"
      ]
     },
     "execution_count": 14,
     "metadata": {},
     "output_type": "execute_result"
    }
   ],
   "source": [
    "df['children'].value_counts()"
   ]
  },
  {
   "cell_type": "code",
   "execution_count": 16,
   "id": "b875649b",
   "metadata": {
    "execution": {
     "iopub.execute_input": "2023-05-27T07:44:44.144594Z",
     "iopub.status.busy": "2023-05-27T07:44:44.143974Z",
     "iopub.status.idle": "2023-05-27T07:44:44.371958Z",
     "shell.execute_reply": "2023-05-27T07:44:44.370522Z"
    },
    "papermill": {
     "duration": 0.241048,
     "end_time": "2023-05-27T07:44:44.374537",
     "exception": false,
     "start_time": "2023-05-27T07:44:44.133489",
     "status": "completed"
    },
    "tags": []
   },
   "outputs": [
    {
     "data": {
      "image/png": "[encoded data removed]",
      "text/plain": [
       "<Figure size 600x600 with 1 Axes>"
      ]
     },
     "metadata": {},
     "output_type": "display_data"
    }
   ],
   "source": [
    "plt.figure(figsize=(6,6))\n",
    "sns.countplot(x='children',data=df)\n",
    "plt.title('Children Dist')\n",
    "plt.show()"
   ]
  },
  {
   "cell_type": "markdown",
   "id": "f03c0243",
   "metadata": {},
   "source": [
    "**Smoker feature**"
   ]
  },
  {
   "cell_type": "code",
   "execution_count": 17,
   "id": "94cc3bde",
   "metadata": {
    "execution": {
     "iopub.execute_input": "2023-05-27T07:44:44.396190Z",
     "iopub.status.busy": "2023-05-27T07:44:44.395403Z",
     "iopub.status.idle": "2023-05-27T07:44:44.576996Z",
     "shell.execute_reply": "2023-05-27T07:44:44.575644Z"
    },
    "papermill": {
     "duration": 0.194905,
     "end_time": "2023-05-27T07:44:44.579562",
     "exception": false,
     "start_time": "2023-05-27T07:44:44.384657",
     "status": "completed"
    },
    "tags": []
   },
   "outputs": [
    {
     "data": {
      "image/png": "[encoded data removed]",
      "text/plain": [
       "<Figure size 600x600 with 1 Axes>"
      ]
     },
     "metadata": {},
     "output_type": "display_data"
    }
   ],
   "source": [
    "plt.figure(figsize=(6,6))\n",
    "sns.countplot(x='smoker',data=df)\n",
    "plt.title('Smoker Dist')\n",
    "plt.show()"
   ]
  },
  {
   "cell_type": "code",
   "execution_count": 18,
   "id": "e49c09c4",
   "metadata": {
    "execution": {
     "iopub.execute_input": "2023-05-27T07:44:44.601535Z",
     "iopub.status.busy": "2023-05-27T07:44:44.601143Z",
     "iopub.status.idle": "2023-05-27T07:44:44.608943Z",
     "shell.execute_reply": "2023-05-27T07:44:44.608054Z"
    },
    "papermill": {
     "duration": 0.021002,
     "end_time": "2023-05-27T07:44:44.610768",
     "exception": false,
     "start_time": "2023-05-27T07:44:44.589766",
     "status": "completed"
    },
    "tags": []
   },
   "outputs": [
    {
     "data": {
      "text/plain": [
       "no     1064\n",
       "yes     274\n",
       "Name: smoker, dtype: int64"
      ]
     },
     "execution_count": 18,
     "metadata": {},
     "output_type": "execute_result"
    }
   ],
   "source": [
    "df['smoker'].value_counts()"
   ]
  },
  {
   "cell_type": "markdown",
   "id": "fe335f05",
   "metadata": {},
   "source": [
    "**Region feature**"
   ]
  },
  {
   "cell_type": "code",
   "execution_count": 19,
   "id": "ca2fad78",
   "metadata": {
    "execution": {
     "iopub.execute_input": "2023-05-27T07:44:44.632655Z",
     "iopub.status.busy": "2023-05-27T07:44:44.632253Z",
     "iopub.status.idle": "2023-05-27T07:44:44.849124Z",
     "shell.execute_reply": "2023-05-27T07:44:44.847970Z"
    },
    "papermill": {
     "duration": 0.230551,
     "end_time": "2023-05-27T07:44:44.851313",
     "exception": false,
     "start_time": "2023-05-27T07:44:44.620762",
     "status": "completed"
    },
    "tags": []
   },
   "outputs": [
    {
     "data": {
      "image/png": "[encoded data removed]",
      "text/plain": [
       "<Figure size 600x600 with 1 Axes>"
      ]
     },
     "metadata": {},
     "output_type": "display_data"
    }
   ],
   "source": [
    "plt.figure(figsize=(6,6))\n",
    "sns.countplot(x='region',data=df)\n",
    "plt.title('Region Dist')\n",
    "plt.show()"
   ]
  },
  {
   "cell_type": "code",
   "execution_count": 20,
   "id": "f54aa125",
   "metadata": {
    "execution": {
     "iopub.execute_input": "2023-05-27T07:44:44.873328Z",
     "iopub.status.busy": "2023-05-27T07:44:44.872982Z",
     "iopub.status.idle": "2023-05-27T07:44:44.881647Z",
     "shell.execute_reply": "2023-05-27T07:44:44.880579Z"
    },
    "papermill": {
     "duration": 0.021992,
     "end_time": "2023-05-27T07:44:44.883538",
     "exception": false,
     "start_time": "2023-05-27T07:44:44.861546",
     "status": "completed"
    },
    "tags": []
   },
   "outputs": [
    {
     "data": {
      "text/plain": [
       "southeast    364\n",
       "southwest    325\n",
       "northwest    325\n",
       "northeast    324\n",
       "Name: region, dtype: int64"
      ]
     },
     "execution_count": 20,
     "metadata": {},
     "output_type": "execute_result"
    }
   ],
   "source": [
    "df['region'].value_counts()"
   ]
  },
  {
   "cell_type": "markdown",
   "id": "2d138c50",
   "metadata": {},
   "source": [
    "**Charges feature**"
   ]
  },
  {
   "cell_type": "code",
   "execution_count": 21,
   "id": "54c9f316",
   "metadata": {
    "execution": {
     "iopub.execute_input": "2023-05-27T07:44:44.906263Z",
     "iopub.status.busy": "2023-05-27T07:44:44.905421Z",
     "iopub.status.idle": "2023-05-27T07:44:45.279080Z",
     "shell.execute_reply": "2023-05-27T07:44:45.277952Z"
    },
    "papermill": {
     "duration": 0.387247,
     "end_time": "2023-05-27T07:44:45.281117",
     "exception": false,
     "start_time": "2023-05-27T07:44:44.893870",
     "status": "completed"
    },
    "tags": []
   },
   "outputs": [
    {
     "data": {
      "text/plain": [
       "<Figure size 600x600 with 0 Axes>"
      ]
     },
     "metadata": {},
     "output_type": "display_data"
    },
    {
     "data": {
      "image/png": "[encoded data removed]",
      "text/plain": [
       "<Figure size 500x500 with 1 Axes>"
      ]
     },
     "metadata": {},
     "output_type": "display_data"
    }
   ],
   "source": [
    "plt.figure(figsize=(6,6))\n",
    "sns.displot(df['charges'])\n",
    "plt.title('Charge Dist')\n",
    "plt.show()"
   ]
  },
  {
   "cell_type": "markdown",
   "id": "21651dd9",
   "metadata": {
    "papermill": {
     "duration": 0.010549,
     "end_time": "2023-05-27T07:44:45.302606",
     "exception": false,
     "start_time": "2023-05-27T07:44:45.292057",
     "status": "completed"
    },
    "tags": []
   },
   "source": [
    "# 4.Data preprocessing and Cleaning"
   ]
  },
  {
   "cell_type": "markdown",
   "id": "c797e46a",
   "metadata": {},
   "source": [
    "Checking for **null values**"
   ]
  },
  {
   "cell_type": "code",
   "execution_count": 34,
   "id": "5bae0c6b",
   "metadata": {},
   "outputs": [
    {
     "name": "stdout",
     "output_type": "stream",
     "text": [
      "age         0\n",
      "sex         0\n",
      "bmi         0\n",
      "children    0\n",
      "smoker      0\n",
      "region      0\n",
      "charges     0\n",
      "dtype: int64\n"
     ]
    }
   ],
   "source": [
    "print(df.isnull().sum())"
   ]
  },
  {
   "cell_type": "markdown",
   "id": "8f5b041c",
   "metadata": {},
   "source": [
    "**cleaning the data**"
   ]
  },
  {
   "cell_type": "code",
   "execution_count": 22,
   "id": "fbe47054",
   "metadata": {
    "execution": {
     "iopub.execute_input": "2023-05-27T07:44:45.326484Z",
     "iopub.status.busy": "2023-05-27T07:44:45.326177Z",
     "iopub.status.idle": "2023-05-27T07:44:45.337894Z",
     "shell.execute_reply": "2023-05-27T07:44:45.336660Z"
    },
    "papermill": {
     "duration": 0.027189,
     "end_time": "2023-05-27T07:44:45.341002",
     "exception": false,
     "start_time": "2023-05-27T07:44:45.313813",
     "status": "completed"
    },
    "tags": []
   },
   "outputs": [],
   "source": [
    "df.replace({'sex':{'male':0,'female':1}}, inplace=True)\n",
    "df.replace({'smoker':{'yes':0,'no':1}},inplace=True)\n",
    "df.replace({'region':{'southeast':0,'southwest':1,'northeast':2,'northwest':3}},inplace=True)"
   ]
  },
  {
   "cell_type": "code",
   "execution_count": 23,
   "id": "81802e2f",
   "metadata": {
    "execution": {
     "iopub.execute_input": "2023-05-27T07:44:45.365225Z",
     "iopub.status.busy": "2023-05-27T07:44:45.364346Z",
     "iopub.status.idle": "2023-05-27T07:44:45.375088Z",
     "shell.execute_reply": "2023-05-27T07:44:45.374439Z"
    },
    "papermill": {
     "duration": 0.024181,
     "end_time": "2023-05-27T07:44:45.376546",
     "exception": false,
     "start_time": "2023-05-27T07:44:45.352365",
     "status": "completed"
    },
    "tags": []
   },
   "outputs": [
    {
     "data": {
      "text/html": [
       "<div>\n",
       "<style scoped>\n",
       "    .dataframe tbody tr th:only-of-type {\n",
       "        vertical-align: middle;\n",
       "    }\n",
       "\n",
       "    .dataframe tbody tr th {\n",
       "        vertical-align: top;\n",
       "    }\n",
       "\n",
       "    .dataframe thead th {\n",
       "        text-align: right;\n",
       "    }\n",
       "</style>\n",
       "<table border=\"1\" class=\"dataframe\">\n",
       "  <thead>\n",
       "    <tr style=\"text-align: right;\">\n",
       "      <th></th>\n",
       "      <th>age</th>\n",
       "      <th>sex</th>\n",
       "      <th>bmi</th>\n",
       "      <th>children</th>\n",
       "      <th>smoker</th>\n",
       "      <th>region</th>\n",
       "      <th>charges</th>\n",
       "    </tr>\n",
       "  </thead>\n",
       "  <tbody>\n",
       "    <tr>\n",
       "      <th>0</th>\n",
       "      <td>19</td>\n",
       "      <td>1</td>\n",
       "      <td>27.900</td>\n",
       "      <td>0</td>\n",
       "      <td>0</td>\n",
       "      <td>1</td>\n",
       "      <td>16884.92400</td>\n",
       "    </tr>\n",
       "    <tr>\n",
       "      <th>1</th>\n",
       "      <td>18</td>\n",
       "      <td>0</td>\n",
       "      <td>33.770</td>\n",
       "      <td>1</td>\n",
       "      <td>1</td>\n",
       "      <td>0</td>\n",
       "      <td>1725.55230</td>\n",
       "    </tr>\n",
       "    <tr>\n",
       "      <th>2</th>\n",
       "      <td>28</td>\n",
       "      <td>0</td>\n",
       "      <td>33.000</td>\n",
       "      <td>3</td>\n",
       "      <td>1</td>\n",
       "      <td>0</td>\n",
       "      <td>4449.46200</td>\n",
       "    </tr>\n",
       "    <tr>\n",
       "      <th>3</th>\n",
       "      <td>33</td>\n",
       "      <td>0</td>\n",
       "      <td>22.705</td>\n",
       "      <td>0</td>\n",
       "      <td>1</td>\n",
       "      <td>3</td>\n",
       "      <td>21984.47061</td>\n",
       "    </tr>\n",
       "    <tr>\n",
       "      <th>4</th>\n",
       "      <td>32</td>\n",
       "      <td>0</td>\n",
       "      <td>28.880</td>\n",
       "      <td>0</td>\n",
       "      <td>1</td>\n",
       "      <td>3</td>\n",
       "      <td>3866.85520</td>\n",
       "    </tr>\n",
       "  </tbody>\n",
       "</table>\n",
       "</div>"
      ],
      "text/plain": [
       "   age  sex     bmi  children  smoker  region      charges\n",
       "0   19    1  27.900         0       0       1  16884.92400\n",
       "1   18    0  33.770         1       1       0   1725.55230\n",
       "2   28    0  33.000         3       1       0   4449.46200\n",
       "3   33    0  22.705         0       1       3  21984.47061\n",
       "4   32    0  28.880         0       1       3   3866.85520"
      ]
     },
     "execution_count": 23,
     "metadata": {},
     "output_type": "execute_result"
    }
   ],
   "source": [
    "df.head()"
   ]
  },
  {
   "cell_type": "code",
   "execution_count": 24,
   "id": "0bc13599",
   "metadata": {
    "execution": {
     "iopub.execute_input": "2023-05-27T07:44:45.400782Z",
     "iopub.status.busy": "2023-05-27T07:44:45.399630Z",
     "iopub.status.idle": "2023-05-27T07:44:45.407291Z",
     "shell.execute_reply": "2023-05-27T07:44:45.405839Z"
    },
    "papermill": {
     "duration": 0.021712,
     "end_time": "2023-05-27T07:44:45.409394",
     "exception": false,
     "start_time": "2023-05-27T07:44:45.387682",
     "status": "completed"
    },
    "tags": []
   },
   "outputs": [],
   "source": [
    "x=df.drop(columns='charges',axis=1)\n",
    "y=df['charges']"
   ]
  },
  {
   "cell_type": "code",
   "execution_count": 25,
   "id": "ce473106",
   "metadata": {
    "execution": {
     "iopub.execute_input": "2023-05-27T07:44:45.432314Z",
     "iopub.status.busy": "2023-05-27T07:44:45.431929Z",
     "iopub.status.idle": "2023-05-27T07:44:45.444345Z",
     "shell.execute_reply": "2023-05-27T07:44:45.443731Z"
    },
    "papermill": {
     "duration": 0.025515,
     "end_time": "2023-05-27T07:44:45.445873",
     "exception": false,
     "start_time": "2023-05-27T07:44:45.420358",
     "status": "completed"
    },
    "tags": []
   },
   "outputs": [
    {
     "data": {
      "text/html": [
       "<div>\n",
       "<style scoped>\n",
       "    .dataframe tbody tr th:only-of-type {\n",
       "        vertical-align: middle;\n",
       "    }\n",
       "\n",
       "    .dataframe tbody tr th {\n",
       "        vertical-align: top;\n",
       "    }\n",
       "\n",
       "    .dataframe thead th {\n",
       "        text-align: right;\n",
       "    }\n",
       "</style>\n",
       "<table border=\"1\" class=\"dataframe\">\n",
       "  <thead>\n",
       "    <tr style=\"text-align: right;\">\n",
       "      <th></th>\n",
       "      <th>age</th>\n",
       "      <th>sex</th>\n",
       "      <th>bmi</th>\n",
       "      <th>children</th>\n",
       "      <th>smoker</th>\n",
       "      <th>region</th>\n",
       "    </tr>\n",
       "  </thead>\n",
       "  <tbody>\n",
       "    <tr>\n",
       "      <th>0</th>\n",
       "      <td>19</td>\n",
       "      <td>1</td>\n",
       "      <td>27.900</td>\n",
       "      <td>0</td>\n",
       "      <td>0</td>\n",
       "      <td>1</td>\n",
       "    </tr>\n",
       "    <tr>\n",
       "      <th>1</th>\n",
       "      <td>18</td>\n",
       "      <td>0</td>\n",
       "      <td>33.770</td>\n",
       "      <td>1</td>\n",
       "      <td>1</td>\n",
       "      <td>0</td>\n",
       "    </tr>\n",
       "    <tr>\n",
       "      <th>2</th>\n",
       "      <td>28</td>\n",
       "      <td>0</td>\n",
       "      <td>33.000</td>\n",
       "      <td>3</td>\n",
       "      <td>1</td>\n",
       "      <td>0</td>\n",
       "    </tr>\n",
       "    <tr>\n",
       "      <th>3</th>\n",
       "      <td>33</td>\n",
       "      <td>0</td>\n",
       "      <td>22.705</td>\n",
       "      <td>0</td>\n",
       "      <td>1</td>\n",
       "      <td>3</td>\n",
       "    </tr>\n",
       "    <tr>\n",
       "      <th>4</th>\n",
       "      <td>32</td>\n",
       "      <td>0</td>\n",
       "      <td>28.880</td>\n",
       "      <td>0</td>\n",
       "      <td>1</td>\n",
       "      <td>3</td>\n",
       "    </tr>\n",
       "    <tr>\n",
       "      <th>...</th>\n",
       "      <td>...</td>\n",
       "      <td>...</td>\n",
       "      <td>...</td>\n",
       "      <td>...</td>\n",
       "      <td>...</td>\n",
       "      <td>...</td>\n",
       "    </tr>\n",
       "    <tr>\n",
       "      <th>1333</th>\n",
       "      <td>50</td>\n",
       "      <td>0</td>\n",
       "      <td>30.970</td>\n",
       "      <td>3</td>\n",
       "      <td>1</td>\n",
       "      <td>3</td>\n",
       "    </tr>\n",
       "    <tr>\n",
       "      <th>1334</th>\n",
       "      <td>18</td>\n",
       "      <td>1</td>\n",
       "      <td>31.920</td>\n",
       "      <td>0</td>\n",
       "      <td>1</td>\n",
       "      <td>2</td>\n",
       "    </tr>\n",
       "    <tr>\n",
       "      <th>1335</th>\n",
       "      <td>18</td>\n",
       "      <td>1</td>\n",
       "      <td>36.850</td>\n",
       "      <td>0</td>\n",
       "      <td>1</td>\n",
       "      <td>0</td>\n",
       "    </tr>\n",
       "    <tr>\n",
       "      <th>1336</th>\n",
       "      <td>21</td>\n",
       "      <td>1</td>\n",
       "      <td>25.800</td>\n",
       "      <td>0</td>\n",
       "      <td>1</td>\n",
       "      <td>1</td>\n",
       "    </tr>\n",
       "    <tr>\n",
       "      <th>1337</th>\n",
       "      <td>61</td>\n",
       "      <td>1</td>\n",
       "      <td>29.070</td>\n",
       "      <td>0</td>\n",
       "      <td>0</td>\n",
       "      <td>3</td>\n",
       "    </tr>\n",
       "  </tbody>\n",
       "</table>\n",
       "<p>1338 rows × 6 columns</p>\n",
       "</div>"
      ],
      "text/plain": [
       "      age  sex     bmi  children  smoker  region\n",
       "0      19    1  27.900         0       0       1\n",
       "1      18    0  33.770         1       1       0\n",
       "2      28    0  33.000         3       1       0\n",
       "3      33    0  22.705         0       1       3\n",
       "4      32    0  28.880         0       1       3\n",
       "...   ...  ...     ...       ...     ...     ...\n",
       "1333   50    0  30.970         3       1       3\n",
       "1334   18    1  31.920         0       1       2\n",
       "1335   18    1  36.850         0       1       0\n",
       "1336   21    1  25.800         0       1       1\n",
       "1337   61    1  29.070         0       0       3\n",
       "\n",
       "[1338 rows x 6 columns]"
      ]
     },
     "execution_count": 25,
     "metadata": {},
     "output_type": "execute_result"
    }
   ],
   "source": [
    "x"
   ]
  },
  {
   "cell_type": "markdown",
   "id": "9961ed19",
   "metadata": {},
   "source": [
    "# 5.Splitting the data into test and train\n",
    "We are splitting our data in the ratio 80:20"
   ]
  },
  {
   "cell_type": "code",
   "execution_count": 26,
   "id": "5b72cd95",
   "metadata": {
    "execution": {
     "iopub.execute_input": "2023-05-27T07:44:45.469960Z",
     "iopub.status.busy": "2023-05-27T07:44:45.469150Z",
     "iopub.status.idle": "2023-05-27T07:44:45.475008Z",
     "shell.execute_reply": "2023-05-27T07:44:45.474329Z"
    },
    "papermill": {
     "duration": 0.019634,
     "end_time": "2023-05-27T07:44:45.476548",
     "exception": false,
     "start_time": "2023-05-27T07:44:45.456914",
     "status": "completed"
    },
    "tags": []
   },
   "outputs": [],
   "source": [
    "x_train,x_test,y_train,y_test=train_test_split(x,y,test_size=0.2,random_state=2)"
   ]
  },
  {
   "cell_type": "code",
   "execution_count": 27,
   "id": "705c4c68",
   "metadata": {
    "execution": {
     "iopub.execute_input": "2023-05-27T07:44:45.499619Z",
     "iopub.status.busy": "2023-05-27T07:44:45.498716Z",
     "iopub.status.idle": "2023-05-27T07:44:45.503572Z",
     "shell.execute_reply": "2023-05-27T07:44:45.502794Z"
    },
    "papermill": {
     "duration": 0.018215,
     "end_time": "2023-05-27T07:44:45.505447",
     "exception": false,
     "start_time": "2023-05-27T07:44:45.487232",
     "status": "completed"
    },
    "tags": []
   },
   "outputs": [
    {
     "name": "stdout",
     "output_type": "stream",
     "text": [
      "(1338, 6) (1070, 6) (268, 6)\n"
     ]
    }
   ],
   "source": [
    "print(x.shape,x_train.shape,x_test.shape)"
   ]
  },
  {
   "cell_type": "markdown",
   "id": "1cf7d022",
   "metadata": {},
   "source": [
    "# 6. Constructing our Linear Regression model"
   ]
  },
  {
   "cell_type": "code",
   "execution_count": 28,
   "id": "13f54ab8",
   "metadata": {},
   "outputs": [],
   "source": [
    "class LinearRegression:\n",
    "    def __init__(self, learning_rate=0.01, num_iterations=1000):\n",
    "        self.learning_rate = learning_rate\n",
    "        self.num_iterations = num_iterations\n",
    "        self.weights = None\n",
    "        self.bias = None\n",
    "\n",
    "    def fit(self, X, y):\n",
    "        num_samples, num_features = X.shape\n",
    "\n",
    "        # Initialize weights and bias\n",
    "        self.weights = np.zeros(num_features)\n",
    "        self.bias = 0\n",
    "\n",
    "        # Gradient Descent\n",
    "        for _ in range(self.num_iterations):\n",
    "            # Compute predicted values\n",
    "            y_pred = np.dot(X, self.weights) + self.bias\n",
    "\n",
    "            # Compute gradients\n",
    "            dw = (1/num_samples) * np.dot(X.T, (y_pred - y))\n",
    "            db = (1/num_samples) * np.sum(y_pred - y)\n",
    "\n",
    "            # Update weights and bias\n",
    "            self.weights -= self.learning_rate * dw\n",
    "            self.bias -= self.learning_rate * db\n",
    "\n",
    "    def predict(self, X):\n",
    "        return np.dot(X, self.weights) + self.bias"
   ]
  },
  {
   "cell_type": "markdown",
   "id": "9597b250",
   "metadata": {},
   "source": [
    "# 7. Predicting and checking accuracy"
   ]
  },
  {
   "cell_type": "code",
   "execution_count": 29,
   "id": "de3dd059",
   "metadata": {
    "execution": {
     "iopub.execute_input": "2023-05-27T07:44:45.528712Z",
     "iopub.status.busy": "2023-05-27T07:44:45.527380Z",
     "iopub.status.idle": "2023-05-27T07:44:45.558692Z",
     "shell.execute_reply": "2023-05-27T07:44:45.557529Z"
    },
    "papermill": {
     "duration": 0.04485,
     "end_time": "2023-05-27T07:44:45.560768",
     "exception": false,
     "start_time": "2023-05-27T07:44:45.515918",
     "status": "completed"
    },
    "tags": []
   },
   "outputs": [
    {
     "name": "stderr",
     "output_type": "stream",
     "text": [
      "C:\\Users\\SHASH\\AppData\\Local\\Temp\\ipykernel_3604\\874364680.py:25: RuntimeWarning: invalid value encountered in subtract\n",
      "  self.weights -= self.learning_rate * dw\n"
     ]
    }
   ],
   "source": [
    "model=LinearRegression()\n",
    "model.fit(x_train,y_train)"
   ]
  },
  {
   "cell_type": "code",
   "execution_count": 36,
   "id": "6075f2f1",
   "metadata": {
    "execution": {
     "iopub.execute_input": "2023-05-27T07:44:45.652150Z",
     "iopub.status.busy": "2023-05-27T07:44:45.651804Z",
     "iopub.status.idle": "2023-05-27T07:44:45.658341Z",
     "shell.execute_reply": "2023-05-27T07:44:45.656880Z"
    },
    "papermill": {
     "duration": 0.021866,
     "end_time": "2023-05-27T07:44:45.660802",
     "exception": false,
     "start_time": "2023-05-27T07:44:45.638936",
     "status": "completed"
    },
    "tags": []
   },
   "outputs": [],
   "source": [
    "#prediction on test data\n",
    "y_pred=model.predict(x_test)"
   ]
  },
  {
   "cell_type": "code",
   "execution_count": 47,
   "id": "4fb96196",
   "metadata": {},
   "outputs": [
    {
     "name": "stdout",
     "output_type": "stream",
     "text": [
      "79.89\n"
     ]
    }
   ],
   "source": [
    "accuracy = accuracy_score(y_test, y_pred)\n",
    "print(\"Accuracy:\", accuracy)"
   ]
  }
 ],
 "metadata": {
  "kernelspec": {
   "display_name": "Python 3 (ipykernel)",
   "language": "python",
   "name": "python3"
  },
  "language_info": {
   "codemirror_mode": {
    "name": "ipython",
    "version": 3
   },
   "file_extension": ".py",
   "mimetype": "text/x-python",
   "name": "python",
   "nbconvert_exporter": "python",
   "pygments_lexer": "ipython3",
   "version": "3.10.9"
  },
  "papermill": {
   "default_parameters": {},
   "duration": 14.674125,
   "end_time": "2023-05-27T07:44:46.707674",
   "environment_variables": {},
   "exception": null,
   "input_path": "__notebook__.ipynb",
   "output_path": "__notebook__.ipynb",
   "parameters": {},
   "start_time": "2023-05-27T07:44:32.033549",
   "version": "2.4.0"
  }
 },
 "nbformat": 4,
 "nbformat_minor": 5
}
